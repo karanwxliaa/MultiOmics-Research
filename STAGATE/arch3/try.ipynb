{
 "cells": [
  {
   "cell_type": "code",
   "execution_count": 3,
   "metadata": {},
   "outputs": [],
   "source": [
    "import scanpy as sc\n",
    "import pandas as pd"
   ]
  },
  {
   "cell_type": "code",
   "execution_count": 8,
   "metadata": {},
   "outputs": [
    {
     "name": "stderr",
     "output_type": "stream",
     "text": [
      "c:\\Users\\KARAN\\anaconda3\\envs\\STAGATE_PT\\lib\\site-packages\\anndata\\_core\\anndata.py:1832: UserWarning: Variable names are not unique. To make them unique, call `.var_names_make_unique`.\n",
      "  utils.warn_names_duplicates(\"var\")\n"
     ]
    }
   ],
   "source": [
    "# Load your gene data\n",
    "file=''\n",
    "adata = sc.read_visium(file, count_file=r'C:\\Users\\KARAN\\Desktop\\MultiOmics-Research\\STAGATE\\Landau\\SPOTS Landau paper dataset\\protein\\GSE198353_mmtv_pymt_GEX_filtered_feature_bc_matrix.h5',load_images=True)\n",
    "adata.var_names_make_unique()\n",
    "\n",
    "# Load your protein data\n",
    "pdata = pd.read_csv(r'C:\\Users\\KARAN\\Desktop\\MultiOmics-Research\\STAGATE\\Landau\\SPOTS Landau paper dataset\\protein\\GSE198353_mmtv_pymt_ADT_t.csv', index_col=0)\n",
    "\n",
    "# Add protein data to AnnData object\n",
    "adata.obsm['protein_data'] = pdata.values"
   ]
  },
  {
   "cell_type": "code",
   "execution_count": 9,
   "metadata": {},
   "outputs": [],
   "source": [
    "protein_data = adata.obsm[\"protein_data\"]"
   ]
  },
  {
   "cell_type": "code",
   "execution_count": null,
   "metadata": {},
   "outputs": [],
   "source": []
  }
 ],
 "metadata": {
  "kernelspec": {
   "display_name": "STAGATE_PT",
   "language": "python",
   "name": "python3"
  },
  "language_info": {
   "codemirror_mode": {
    "name": "ipython",
    "version": 3
   },
   "file_extension": ".py",
   "mimetype": "text/x-python",
   "name": "python",
   "nbconvert_exporter": "python",
   "pygments_lexer": "ipython3",
   "version": "3.9.16"
  },
  "orig_nbformat": 4
 },
 "nbformat": 4,
 "nbformat_minor": 2
}
