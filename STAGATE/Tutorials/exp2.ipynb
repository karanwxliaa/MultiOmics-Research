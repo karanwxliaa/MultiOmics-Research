{
 "cells": [
  {
   "cell_type": "code",
   "execution_count": 2,
   "metadata": {},
   "outputs": [],
   "source": [
    "import warnings\n",
    "warnings.filterwarnings(\"ignore\")"
   ]
  },
  {
   "cell_type": "code",
   "execution_count": 3,
   "metadata": {},
   "outputs": [],
   "source": [
    "import pandas as pd\n",
    "import numpy as np\n",
    "import scanpy as sc\n",
    "import matplotlib.pyplot as plt\n",
    "import os\n",
    "import sys"
   ]
  },
  {
   "cell_type": "code",
   "execution_count": 4,
   "metadata": {},
   "outputs": [],
   "source": [
    "import STAGATE"
   ]
  },
  {
   "cell_type": "code",
   "execution_count": 6,
   "metadata": {},
   "outputs": [],
   "source": [
    "adata = sc.read_10x_h5(r'Data2\\spatial\\V1_Adult_Mouse_Brain_Coronal_Section_1_filtered_feature_bc_matrix.h5')\n",
    "adata.var_names_make_unique()"
   ]
  },
  {
   "cell_type": "code",
   "execution_count": 7,
   "metadata": {},
   "outputs": [
    {
     "data": {
      "text/plain": [
       "AnnData object with n_obs × n_vars = 2903 × 32285\n",
       "    var: 'gene_ids', 'feature_types', 'genome'"
      ]
     },
     "execution_count": 7,
     "metadata": {},
     "output_type": "execute_result"
    }
   ],
   "source": [
    "adata"
   ]
  },
  {
   "cell_type": "code",
   "execution_count": 8,
   "metadata": {},
   "outputs": [],
   "source": [
    "#Normalization\n",
    "sc.pp.highly_variable_genes(adata, flavor=\"seurat_v3\", n_top_genes=3000)\n",
    "sc.pp.normalize_total(adata, target_sum=1e4)\n",
    "sc.pp.log1p(adata)"
   ]
  },
  {
   "cell_type": "code",
   "execution_count": 9,
   "metadata": {},
   "outputs": [
    {
     "ename": "ValueError",
     "evalue": "When .uns['spatial'][library_id] does not exist, spot_size must be provided directly.",
     "output_type": "error",
     "traceback": [
      "\u001b[1;31m---------------------------------------------------------------------------\u001b[0m",
      "\u001b[1;31mValueError\u001b[0m                                Traceback (most recent call last)",
      "Cell \u001b[1;32mIn[9], line 2\u001b[0m\n\u001b[0;32m      1\u001b[0m plt\u001b[39m.\u001b[39mrcParams[\u001b[39m\"\u001b[39m\u001b[39mfigure.figsize\u001b[39m\u001b[39m\"\u001b[39m] \u001b[39m=\u001b[39m (\u001b[39m3\u001b[39m, \u001b[39m3\u001b[39m)\n\u001b[1;32m----> 2\u001b[0m sc\u001b[39m.\u001b[39;49mpl\u001b[39m.\u001b[39;49mspatial(adata, img_key\u001b[39m=\u001b[39;49m\u001b[39m\"\u001b[39;49m\u001b[39mhires\u001b[39;49m\u001b[39m\"\u001b[39;49m)\n",
      "File \u001b[1;32mc:\\Users\\KARAN\\anaconda3\\envs\\STAGATE_PT\\lib\\site-packages\\scanpy\\plotting\\_tools\\scatterplots.py:990\u001b[0m, in \u001b[0;36mspatial\u001b[1;34m(adata, basis, img, img_key, library_id, crop_coord, alpha_img, bw, size, scale_factor, spot_size, na_color, show, return_fig, save, **kwargs)\u001b[0m\n\u001b[0;32m    988\u001b[0m library_id, spatial_data \u001b[39m=\u001b[39m _check_spatial_data(adata\u001b[39m.\u001b[39muns, library_id)\n\u001b[0;32m    989\u001b[0m img, img_key \u001b[39m=\u001b[39m _check_img(spatial_data, img, img_key, bw\u001b[39m=\u001b[39mbw)\n\u001b[1;32m--> 990\u001b[0m spot_size \u001b[39m=\u001b[39m _check_spot_size(spatial_data, spot_size)\n\u001b[0;32m    991\u001b[0m scale_factor \u001b[39m=\u001b[39m _check_scale_factor(\n\u001b[0;32m    992\u001b[0m     spatial_data, img_key\u001b[39m=\u001b[39mimg_key, scale_factor\u001b[39m=\u001b[39mscale_factor\n\u001b[0;32m    993\u001b[0m )\n\u001b[0;32m    994\u001b[0m crop_coord \u001b[39m=\u001b[39m _check_crop_coord(crop_coord, scale_factor)\n",
      "File \u001b[1;32mc:\\Users\\KARAN\\anaconda3\\envs\\STAGATE_PT\\lib\\site-packages\\scanpy\\plotting\\_tools\\scatterplots.py:1256\u001b[0m, in \u001b[0;36m_check_spot_size\u001b[1;34m(spatial_data, spot_size)\u001b[0m\n\u001b[0;32m   1250\u001b[0m \u001b[39m\u001b[39m\u001b[39m\"\"\"\u001b[39;00m\n\u001b[0;32m   1251\u001b[0m \u001b[39mResolve spot_size value.\u001b[39;00m\n\u001b[0;32m   1252\u001b[0m \n\u001b[0;32m   1253\u001b[0m \u001b[39mThis is a required argument for spatial plots.\u001b[39;00m\n\u001b[0;32m   1254\u001b[0m \u001b[39m\"\"\"\u001b[39;00m\n\u001b[0;32m   1255\u001b[0m \u001b[39mif\u001b[39;00m spatial_data \u001b[39mis\u001b[39;00m \u001b[39mNone\u001b[39;00m \u001b[39mand\u001b[39;00m spot_size \u001b[39mis\u001b[39;00m \u001b[39mNone\u001b[39;00m:\n\u001b[1;32m-> 1256\u001b[0m     \u001b[39mraise\u001b[39;00m \u001b[39mValueError\u001b[39;00m(\n\u001b[0;32m   1257\u001b[0m         \u001b[39m\"\u001b[39m\u001b[39mWhen .uns[\u001b[39m\u001b[39m'\u001b[39m\u001b[39mspatial\u001b[39m\u001b[39m'\u001b[39m\u001b[39m][library_id] does not exist, spot_size must be \u001b[39m\u001b[39m\"\u001b[39m\n\u001b[0;32m   1258\u001b[0m         \u001b[39m\"\u001b[39m\u001b[39mprovided directly.\u001b[39m\u001b[39m\"\u001b[39m\n\u001b[0;32m   1259\u001b[0m     )\n\u001b[0;32m   1260\u001b[0m \u001b[39melif\u001b[39;00m spot_size \u001b[39mis\u001b[39;00m \u001b[39mNone\u001b[39;00m:\n\u001b[0;32m   1261\u001b[0m     \u001b[39mreturn\u001b[39;00m spatial_data[\u001b[39m'\u001b[39m\u001b[39mscalefactors\u001b[39m\u001b[39m'\u001b[39m][\u001b[39m'\u001b[39m\u001b[39mspot_diameter_fullres\u001b[39m\u001b[39m'\u001b[39m]\n",
      "\u001b[1;31mValueError\u001b[0m: When .uns['spatial'][library_id] does not exist, spot_size must be provided directly."
     ]
    }
   ],
   "source": [
    "plt.rcParams[\"figure.figsize\"] = (3, 3)\n",
    "sc.pl.spatial(adata, img_key=\"hires\")"
   ]
  },
  {
   "cell_type": "code",
   "execution_count": 10,
   "metadata": {},
   "outputs": [
    {
     "name": "stdout",
     "output_type": "stream",
     "text": [
      "------Calculating spatial graph...\n"
     ]
    },
    {
     "ename": "KeyError",
     "evalue": "'spatial'",
     "output_type": "error",
     "traceback": [
      "\u001b[1;31m---------------------------------------------------------------------------\u001b[0m",
      "\u001b[1;31mKeyError\u001b[0m                                  Traceback (most recent call last)",
      "Cell \u001b[1;32mIn[10], line 1\u001b[0m\n\u001b[1;32m----> 1\u001b[0m STAGATE\u001b[39m.\u001b[39;49mCal_Spatial_Net(adata, rad_cutoff\u001b[39m=\u001b[39;49m\u001b[39m300\u001b[39;49m)\n\u001b[0;32m      2\u001b[0m STAGATE\u001b[39m.\u001b[39mStats_Spatial_Net(adata)\n",
      "File \u001b[1;32mc:\\Users\\KARAN\\Desktop\\STAGATE-main\\STAGATE\\utils.py:29\u001b[0m, in \u001b[0;36mCal_Spatial_Net\u001b[1;34m(adata, rad_cutoff, k_cutoff, model, verbose)\u001b[0m\n\u001b[0;32m     27\u001b[0m \u001b[39mif\u001b[39;00m verbose:\n\u001b[0;32m     28\u001b[0m     \u001b[39mprint\u001b[39m(\u001b[39m'\u001b[39m\u001b[39m------Calculating spatial graph...\u001b[39m\u001b[39m'\u001b[39m)\n\u001b[1;32m---> 29\u001b[0m coor \u001b[39m=\u001b[39m pd\u001b[39m.\u001b[39mDataFrame(adata\u001b[39m.\u001b[39;49mobsm[\u001b[39m'\u001b[39;49m\u001b[39mspatial\u001b[39;49m\u001b[39m'\u001b[39;49m])\n\u001b[0;32m     30\u001b[0m coor\u001b[39m.\u001b[39mindex \u001b[39m=\u001b[39m adata\u001b[39m.\u001b[39mobs\u001b[39m.\u001b[39mindex\n\u001b[0;32m     31\u001b[0m coor\u001b[39m.\u001b[39mcolumns \u001b[39m=\u001b[39m [\u001b[39m'\u001b[39m\u001b[39mimagerow\u001b[39m\u001b[39m'\u001b[39m, \u001b[39m'\u001b[39m\u001b[39mimagecol\u001b[39m\u001b[39m'\u001b[39m]\n",
      "File \u001b[1;32mc:\\Users\\KARAN\\anaconda3\\envs\\STAGATE_PT\\lib\\site-packages\\anndata\\_core\\aligned_mapping.py:178\u001b[0m, in \u001b[0;36mAlignedActualMixin.__getitem__\u001b[1;34m(self, key)\u001b[0m\n\u001b[0;32m    177\u001b[0m \u001b[39mdef\u001b[39;00m \u001b[39m__getitem__\u001b[39m(\u001b[39mself\u001b[39m, key: \u001b[39mstr\u001b[39m) \u001b[39m-\u001b[39m\u001b[39m>\u001b[39m V:\n\u001b[1;32m--> 178\u001b[0m     \u001b[39mreturn\u001b[39;00m \u001b[39mself\u001b[39;49m\u001b[39m.\u001b[39;49m_data[key]\n",
      "\u001b[1;31mKeyError\u001b[0m: 'spatial'"
     ]
    }
   ],
   "source": [
    "STAGATE.Cal_Spatial_Net(adata, rad_cutoff=300)\n",
    "STAGATE.Stats_Spatial_Net(adata)"
   ]
  },
  {
   "cell_type": "code",
   "execution_count": null,
   "metadata": {},
   "outputs": [],
   "source": []
  }
 ],
 "metadata": {
  "kernelspec": {
   "display_name": "STAGATETF",
   "language": "python",
   "name": "python3"
  },
  "language_info": {
   "codemirror_mode": {
    "name": "ipython",
    "version": 3
   },
   "file_extension": ".py",
   "mimetype": "text/x-python",
   "name": "python",
   "nbconvert_exporter": "python",
   "pygments_lexer": "ipython3",
   "version": "3.9.16"
  },
  "orig_nbformat": 4
 },
 "nbformat": 4,
 "nbformat_minor": 2
}
