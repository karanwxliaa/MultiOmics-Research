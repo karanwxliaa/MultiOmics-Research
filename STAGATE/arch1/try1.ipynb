{
 "cells": [
  {
   "cell_type": "code",
   "execution_count": 1,
   "metadata": {},
   "outputs": [],
   "source": [
    "import warnings\n",
    "warnings.filterwarnings(\"ignore\")"
   ]
  },
  {
   "cell_type": "code",
   "execution_count": 16,
   "metadata": {},
   "outputs": [],
   "source": [
    "import scanpy as sc\n",
    "import numpy as np\n",
    "import torch\n",
    "from torch.utils.data import DataLoader\n",
    "from arch1 import Arch1\n",
    "from dataset import MyDataset\n",
    "from utils import train\n"
   ]
  },
  {
   "cell_type": "code",
   "execution_count": 17,
   "metadata": {},
   "outputs": [],
   "source": [
    "file = ''\n",
    "gdata = sc.read_visium(file, count_file=r'C:\\Users\\KARAN\\Desktop\\MultiOmics-Research\\STAGATE\\Landau\\SPOTS Landau paper dataset\\protein\\GSE198353_mmtv_pymt_GEX_filtered_feature_bc_matrix.h5',load_images=True)\n",
    "gdata.var_names_make_unique()"
   ]
  },
  {
   "cell_type": "code",
   "execution_count": 18,
   "metadata": {},
   "outputs": [],
   "source": [
    "pdata = sc.read_csv(r'C:\\Users\\KARAN\\Desktop\\MultiOmics-Research\\STAGATE\\Landau\\SPOTS Landau paper dataset\\protein\\GSE198353_mmtv_pymt_ADT_t.csv')\n",
    "pdata.var_names_make_unique()"
   ]
  },
  {
   "cell_type": "code",
   "execution_count": 19,
   "metadata": {},
   "outputs": [
    {
     "data": {
      "text/plain": [
       "AnnData object with n_obs × n_vars = 1978 × 32286\n",
       "    obs: 'in_tissue', 'array_row', 'array_col'\n",
       "    var: 'gene_ids', 'feature_types', 'genome'\n",
       "    uns: 'spatial'\n",
       "    obsm: 'spatial'"
      ]
     },
     "execution_count": 19,
     "metadata": {},
     "output_type": "execute_result"
    }
   ],
   "source": [
    "gdata"
   ]
  },
  {
   "cell_type": "code",
   "execution_count": 20,
   "metadata": {},
   "outputs": [
    {
     "data": {
      "text/plain": [
       "AnnData object with n_obs × n_vars = 1978 × 32"
      ]
     },
     "execution_count": 20,
     "metadata": {},
     "output_type": "execute_result"
    }
   ],
   "source": [
    "pdata"
   ]
  },
  {
   "cell_type": "code",
   "execution_count": 21,
   "metadata": {},
   "outputs": [],
   "source": [
    "import numpy as np\n",
    "\n",
    "def custom_collate_fn(batch):\n",
    "    genes_batch, proteins_batch = zip(*batch)\n",
    "    return list(genes_batch), list(proteins_batch)\n"
   ]
  },
  {
   "cell_type": "code",
   "execution_count": 22,
   "metadata": {},
   "outputs": [],
   "source": [
    "batch_size = 32\n",
    "\n",
    "dataset = MyDataset(gdata, pdata)\n",
    "dataloader = DataLoader(dataset, batch_size=batch_size, shuffle=True, collate_fn=custom_collate_fn)\n"
   ]
  },
  {
   "cell_type": "code",
   "execution_count": 23,
   "metadata": {},
   "outputs": [],
   "source": [
    "device = torch.device('cuda' if torch.cuda.is_available() else 'cpu')\n"
   ]
  },
  {
   "cell_type": "code",
   "execution_count": 24,
   "metadata": {},
   "outputs": [],
   "source": [
    "latent_dim = 32\n",
    "learning_rate = 0.001\n",
    "num_epochs = 100\n"
   ]
  },
  {
   "cell_type": "code",
   "execution_count": 25,
   "metadata": {},
   "outputs": [],
   "source": [
    "from utils import compute_spatial_graph"
   ]
  },
  {
   "cell_type": "code",
   "execution_count": 26,
   "metadata": {},
   "outputs": [],
   "source": [
    "radius = 10.0\n",
    "spatial_graph = compute_spatial_graph(gdata.obsm['spatial'], radius)\n",
    "model = Arch1(gdata.shape[1], pdata.shape[1], latent_dim, spatial_graph).to(device)\n"
   ]
  },
  {
   "cell_type": "code",
   "execution_count": 27,
   "metadata": {},
   "outputs": [
    {
     "ename": "TypeError",
     "evalue": "Could not generate a generic TraceType for <32x32286 sparse matrix of type '<class 'numpy.float32'>'\n\twith 126678 stored elements in Compressed Sparse Row format>.Please verify that it is immutable/hashable. Otheriwse, consider implementing the Tracing Protocol for it.",
     "output_type": "error",
     "traceback": [
      "\u001b[1;31m---------------------------------------------------------------------------\u001b[0m",
      "\u001b[1;31mTypeError\u001b[0m                                 Traceback (most recent call last)",
      "Cell \u001b[1;32mIn[27], line 4\u001b[0m\n\u001b[0;32m      1\u001b[0m optimizer \u001b[39m=\u001b[39m torch\u001b[39m.\u001b[39moptim\u001b[39m.\u001b[39mAdam(model\u001b[39m.\u001b[39mparameters(), lr\u001b[39m=\u001b[39mlearning_rate)\n\u001b[0;32m      3\u001b[0m \u001b[39mfor\u001b[39;00m epoch \u001b[39min\u001b[39;00m \u001b[39mrange\u001b[39m(num_epochs):\n\u001b[1;32m----> 4\u001b[0m     train_loss \u001b[39m=\u001b[39m train(model, optimizer, dataloader,num_epochs)\n\u001b[0;32m      5\u001b[0m     \u001b[39mprint\u001b[39m(\u001b[39mf\u001b[39m\u001b[39m\"\u001b[39m\u001b[39mEpoch \u001b[39m\u001b[39m{\u001b[39;00mepoch\u001b[39m+\u001b[39m\u001b[39m1\u001b[39m\u001b[39m}\u001b[39;00m\u001b[39m/\u001b[39m\u001b[39m{\u001b[39;00mnum_epochs\u001b[39m}\u001b[39;00m\u001b[39m, Train Loss: \u001b[39m\u001b[39m{\u001b[39;00mtrain_loss\u001b[39m:\u001b[39;00m\u001b[39m.4f\u001b[39m\u001b[39m}\u001b[39;00m\u001b[39m\"\u001b[39m)\n",
      "File \u001b[1;32mc:\\Users\\KARAN\\Desktop\\MultiOmics-Research\\arch1\\utils.py:25\u001b[0m, in \u001b[0;36mtrain\u001b[1;34m(model, optimizer, dataset, num_epochs)\u001b[0m\n\u001b[0;32m     23\u001b[0m \u001b[39mfor\u001b[39;00m epoch \u001b[39min\u001b[39;00m \u001b[39mrange\u001b[39m(num_epochs):\n\u001b[0;32m     24\u001b[0m     \u001b[39mfor\u001b[39;00m genes, proteins \u001b[39min\u001b[39;00m dataset:\n\u001b[1;32m---> 25\u001b[0m         loss \u001b[39m=\u001b[39m train_step(model, optimizer, genes, proteins)\n\u001b[0;32m     26\u001b[0m         total_loss\u001b[39m.\u001b[39massign_add(loss)\n\u001b[0;32m     27\u001b[0m         num_batches\u001b[39m.\u001b[39massign_add(\u001b[39m1\u001b[39m)\n",
      "File \u001b[1;32m~\\AppData\\Roaming\\Python\\Python39\\site-packages\\tensorflow\\python\\util\\traceback_utils.py:153\u001b[0m, in \u001b[0;36mfilter_traceback.<locals>.error_handler\u001b[1;34m(*args, **kwargs)\u001b[0m\n\u001b[0;32m    151\u001b[0m \u001b[39mexcept\u001b[39;00m \u001b[39mException\u001b[39;00m \u001b[39mas\u001b[39;00m e:\n\u001b[0;32m    152\u001b[0m   filtered_tb \u001b[39m=\u001b[39m _process_traceback_frames(e\u001b[39m.\u001b[39m__traceback__)\n\u001b[1;32m--> 153\u001b[0m   \u001b[39mraise\u001b[39;00m e\u001b[39m.\u001b[39mwith_traceback(filtered_tb) \u001b[39mfrom\u001b[39;00m \u001b[39mNone\u001b[39;00m\n\u001b[0;32m    154\u001b[0m \u001b[39mfinally\u001b[39;00m:\n\u001b[0;32m    155\u001b[0m   \u001b[39mdel\u001b[39;00m filtered_tb\n",
      "File \u001b[1;32m~\\AppData\\Roaming\\Python\\Python39\\site-packages\\tensorflow\\core\\function\\polymorphism\\function_type.py:419\u001b[0m, in \u001b[0;36mcanonicalize_to_monomorphic\u001b[1;34m(args, kwargs, default_values, captures, polymorphic_type)\u001b[0m\n\u001b[0;32m    413\u001b[0m       parameters\u001b[39m.\u001b[39mappend(\n\u001b[0;32m    414\u001b[0m           _make_validated_mono_param(kwarg_name, arg[kwarg_name],\n\u001b[0;32m    415\u001b[0m                                      Parameter\u001b[39m.\u001b[39mKEYWORD_ONLY, type_context,\n\u001b[0;32m    416\u001b[0m                                      poly_parameter\u001b[39m.\u001b[39mtype_constraint))\n\u001b[0;32m    417\u001b[0m   \u001b[39melse\u001b[39;00m:\n\u001b[0;32m    418\u001b[0m     parameters\u001b[39m.\u001b[39mappend(\n\u001b[1;32m--> 419\u001b[0m         _make_validated_mono_param(name, arg, poly_parameter\u001b[39m.\u001b[39;49mkind,\n\u001b[0;32m    420\u001b[0m                                    type_context,\n\u001b[0;32m    421\u001b[0m                                    poly_parameter\u001b[39m.\u001b[39;49mtype_constraint))\n\u001b[0;32m    423\u001b[0m capture_types \u001b[39m=\u001b[39m collections\u001b[39m.\u001b[39mOrderedDict()\n\u001b[0;32m    424\u001b[0m \u001b[39mfor\u001b[39;00m name, value \u001b[39min\u001b[39;00m captures\u001b[39m.\u001b[39mitems():\n",
      "File \u001b[1;32m~\\AppData\\Roaming\\Python\\Python39\\site-packages\\tensorflow\\core\\function\\polymorphism\\function_type.py:359\u001b[0m, in \u001b[0;36m_make_validated_mono_param\u001b[1;34m(name, value, kind, type_context, poly_type)\u001b[0m\n\u001b[0;32m    357\u001b[0m \u001b[39mdef\u001b[39;00m \u001b[39m_make_validated_mono_param\u001b[39m(name, value, kind, type_context, poly_type):\n\u001b[0;32m    358\u001b[0m \u001b[39m  \u001b[39m\u001b[39m\"\"\"Generates and validates a parameter for Monomorphic FunctionType.\"\"\"\u001b[39;00m\n\u001b[1;32m--> 359\u001b[0m   mono_type \u001b[39m=\u001b[39m trace_type\u001b[39m.\u001b[39;49mfrom_value(value, type_context)\n\u001b[0;32m    361\u001b[0m   \u001b[39mif\u001b[39;00m poly_type \u001b[39mand\u001b[39;00m \u001b[39mnot\u001b[39;00m mono_type\u001b[39m.\u001b[39mis_subtype_of(poly_type):\n\u001b[0;32m    362\u001b[0m     \u001b[39mraise\u001b[39;00m \u001b[39mTypeError\u001b[39;00m(\u001b[39mf\u001b[39m\u001b[39m\"\u001b[39m\u001b[39mParameter `\u001b[39m\u001b[39m{\u001b[39;00mname\u001b[39m}\u001b[39;00m\u001b[39m` was expected to be of type \u001b[39m\u001b[39m\"\u001b[39m\n\u001b[0;32m    363\u001b[0m                     \u001b[39mf\u001b[39m\u001b[39m\"\u001b[39m\u001b[39m{\u001b[39;00mpoly_type\u001b[39m}\u001b[39;00m\u001b[39m but is \u001b[39m\u001b[39m{\u001b[39;00mmono_type\u001b[39m}\u001b[39;00m\u001b[39m\"\u001b[39m)\n",
      "File \u001b[1;32m~\\AppData\\Roaming\\Python\\Python39\\site-packages\\tensorflow\\core\\function\\trace_type\\trace_type_builder.py:188\u001b[0m, in \u001b[0;36mfrom_value\u001b[1;34m(value, context)\u001b[0m\n\u001b[0;32m    185\u001b[0m   \u001b[39mreturn\u001b[39;00m from_value(value\u001b[39m.\u001b[39m__wrapped__, context)\n\u001b[0;32m    187\u001b[0m \u001b[39mif\u001b[39;00m \u001b[39misinstance\u001b[39m(value, \u001b[39mlist\u001b[39m):\n\u001b[1;32m--> 188\u001b[0m   \u001b[39mreturn\u001b[39;00m default_types\u001b[39m.\u001b[39;49mList(\u001b[39m*\u001b[39;49m(from_value(c, context) \u001b[39mfor\u001b[39;49;00m c \u001b[39min\u001b[39;49;00m value))\n\u001b[0;32m    190\u001b[0m \u001b[39mif\u001b[39;00m \u001b[39misinstance\u001b[39m(value, \u001b[39mtuple\u001b[39m):\n\u001b[0;32m    191\u001b[0m   \u001b[39mif\u001b[39;00m util\u001b[39m.\u001b[39mis_namedtuple(value):\n",
      "File \u001b[1;32m~\\AppData\\Roaming\\Python\\Python39\\site-packages\\tensorflow\\core\\function\\trace_type\\trace_type_builder.py:188\u001b[0m, in \u001b[0;36m<genexpr>\u001b[1;34m(.0)\u001b[0m\n\u001b[0;32m    185\u001b[0m   \u001b[39mreturn\u001b[39;00m from_value(value\u001b[39m.\u001b[39m__wrapped__, context)\n\u001b[0;32m    187\u001b[0m \u001b[39mif\u001b[39;00m \u001b[39misinstance\u001b[39m(value, \u001b[39mlist\u001b[39m):\n\u001b[1;32m--> 188\u001b[0m   \u001b[39mreturn\u001b[39;00m default_types\u001b[39m.\u001b[39mList(\u001b[39m*\u001b[39m(from_value(c, context) \u001b[39mfor\u001b[39;00m c \u001b[39min\u001b[39;00m value))\n\u001b[0;32m    190\u001b[0m \u001b[39mif\u001b[39;00m \u001b[39misinstance\u001b[39m(value, \u001b[39mtuple\u001b[39m):\n\u001b[0;32m    191\u001b[0m   \u001b[39mif\u001b[39;00m util\u001b[39m.\u001b[39mis_namedtuple(value):\n",
      "File \u001b[1;32m~\\AppData\\Roaming\\Python\\Python39\\site-packages\\tensorflow\\core\\function\\trace_type\\trace_type_builder.py:221\u001b[0m, in \u001b[0;36mfrom_value\u001b[1;34m(value, context)\u001b[0m\n\u001b[0;32m    219\u001b[0m   \u001b[39mreturn\u001b[39;00m default_types\u001b[39m.\u001b[39mLiteral(value)\n\u001b[0;32m    220\u001b[0m \u001b[39mexcept\u001b[39;00m:\n\u001b[1;32m--> 221\u001b[0m   \u001b[39mraise\u001b[39;00m \u001b[39mTypeError\u001b[39;00m(  \u001b[39m# pylint: disable=raise-missing-from\u001b[39;00m\n\u001b[0;32m    222\u001b[0m       \u001b[39mf\u001b[39m\u001b[39m\"\u001b[39m\u001b[39mCould not generate a generic TraceType for \u001b[39m\u001b[39m{\u001b[39;00mvalue\u001b[39m!r}\u001b[39;00m\u001b[39m.\u001b[39m\u001b[39m\"\u001b[39m\n\u001b[0;32m    223\u001b[0m       \u001b[39mf\u001b[39m\u001b[39m\"\u001b[39m\u001b[39mPlease verify that it is immutable/hashable. Otheriwse, consider \u001b[39m\u001b[39m\"\u001b[39m\n\u001b[0;32m    224\u001b[0m       \u001b[39mf\u001b[39m\u001b[39m\"\u001b[39m\u001b[39mimplementing the Tracing Protocol for it.\u001b[39m\u001b[39m\"\u001b[39m)\n",
      "\u001b[1;31mTypeError\u001b[0m: Could not generate a generic TraceType for <32x32286 sparse matrix of type '<class 'numpy.float32'>'\n\twith 126678 stored elements in Compressed Sparse Row format>.Please verify that it is immutable/hashable. Otheriwse, consider implementing the Tracing Protocol for it."
     ]
    }
   ],
   "source": [
    "optimizer = torch.optim.Adam(model.parameters(), lr=learning_rate)\n",
    "\n",
    "for epoch in range(num_epochs):\n",
    "    train_loss = train(model, optimizer, dataloader,num_epochs)\n",
    "    print(f\"Epoch {epoch+1}/{num_epochs}, Train Loss: {train_loss:.4f}\")\n"
   ]
  },
  {
   "cell_type": "code",
   "execution_count": null,
   "metadata": {},
   "outputs": [
    {
     "ename": "NameError",
     "evalue": "name 'optimizer' is not defined",
     "output_type": "error",
     "traceback": [
      "\u001b[1;31m---------------------------------------------------------------------------\u001b[0m",
      "\u001b[1;31mNameError\u001b[0m                                 Traceback (most recent call last)",
      "Cell \u001b[1;32mIn[15], line 2\u001b[0m\n\u001b[0;32m      1\u001b[0m \u001b[39mfor\u001b[39;00m epoch \u001b[39min\u001b[39;00m \u001b[39mrange\u001b[39m(num_epochs):\n\u001b[1;32m----> 2\u001b[0m     train_loss \u001b[39m=\u001b[39m train(model, optimizer, dataloader)\n\u001b[0;32m      3\u001b[0m     \u001b[39mprint\u001b[39m(\u001b[39mf\u001b[39m\u001b[39m\"\u001b[39m\u001b[39mEpoch \u001b[39m\u001b[39m{\u001b[39;00mepoch\u001b[39m+\u001b[39m\u001b[39m1\u001b[39m\u001b[39m}\u001b[39;00m\u001b[39m/\u001b[39m\u001b[39m{\u001b[39;00mnum_epochs\u001b[39m}\u001b[39;00m\u001b[39m, Train Loss: \u001b[39m\u001b[39m{\u001b[39;00mtrain_loss\u001b[39m:\u001b[39;00m\u001b[39m.4f\u001b[39m\u001b[39m}\u001b[39;00m\u001b[39m\"\u001b[39m)\n",
      "\u001b[1;31mNameError\u001b[0m: name 'optimizer' is not defined"
     ]
    }
   ],
   "source": [
    "for epoch in range(num_epochs):\n",
    "    train_loss = train(model, optimizer, dataloader)\n",
    "    print(f\"Epoch {epoch+1}/{num_epochs}, Train Loss: {train_loss:.4f}\")\n"
   ]
  },
  {
   "cell_type": "code",
   "execution_count": null,
   "metadata": {},
   "outputs": [],
   "source": [
    "with torch.no_grad():\n",
    "    evaluate(model, dataloader)\n"
   ]
  },
  {
   "cell_type": "code",
   "execution_count": null,
   "metadata": {},
   "outputs": [],
   "source": [
    "import numpy as np\n",
    "from sklearn.cluster import KMeans\n",
    "\n",
    "# Load the learned latent variables\n",
    "latent_variables = model.encode(genes_data, proteins_data)\n",
    "\n",
    "# Perform clustering using K-means\n",
    "kmeans = KMeans(n_clusters=5)  # Specify the number of clusters\n",
    "cluster_labels = kmeans.fit_predict(latent_variables)\n",
    "\n",
    "# Print cluster labels\n",
    "print(cluster_labels)\n"
   ]
  }
 ],
 "metadata": {
  "kernelspec": {
   "display_name": "STAGATE_PT",
   "language": "python",
   "name": "python3"
  },
  "language_info": {
   "codemirror_mode": {
    "name": "ipython",
    "version": 3
   },
   "file_extension": ".py",
   "mimetype": "text/x-python",
   "name": "python",
   "nbconvert_exporter": "python",
   "pygments_lexer": "ipython3",
   "version": "3.9.16"
  },
  "orig_nbformat": 4
 },
 "nbformat": 4,
 "nbformat_minor": 2
}
